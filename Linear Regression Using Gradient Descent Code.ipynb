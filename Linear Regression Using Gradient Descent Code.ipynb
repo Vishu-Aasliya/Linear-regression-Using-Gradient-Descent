{
 "cells": [
  {
   "cell_type": "markdown",
   "id": "d7eb22ab",
   "metadata": {},
   "source": [
    "# Predefined Functions"
   ]
  },
  {
   "cell_type": "code",
   "execution_count": 29,
   "id": "a36b2515",
   "metadata": {},
   "outputs": [],
   "source": [
    "def step_gradient(X,Y, learning_rate, m, c):\n",
    "    m_check = [0.0 for i in range(13)]\n",
    "    m_slope = np.array(m_check)\n",
    "    c_slope = 0\n",
    "    \n",
    "    M = len(X)\n",
    "    \n",
    "    for i in range(M):\n",
    "        half_sum = 0\n",
    "        for j in range(len(m)):\n",
    "            half_sum+= m[j] * X[i][j]\n",
    "            \n",
    "        half_sum+= c\n",
    "        \n",
    "        for j in range(len(m)):\n",
    "            m_slope[j] += (-2/M)*(Y[i][0]-half_sum)*X[i][j]\n",
    "        \n",
    "        c_slope += (-2/M)*(Y[i][0]-half_sum)\n",
    "        \n",
    "        m -= learning_rate * m_slope\n",
    "        c -= learning_rate * c_slope\n",
    "    return m, c\n",
    "    "
   ]
  },
  {
   "cell_type": "code",
   "execution_count": 30,
   "id": "9b1a8547",
   "metadata": {},
   "outputs": [],
   "source": [
    "def cost(X, Y, m , c):\n",
    "    total_cost = 0\n",
    "    M = len(X)\n",
    "    for i in range(M):\n",
    "        half_sum = 0\n",
    "        for j in range(len(m)):\n",
    "            half_sum+= m[j]*X[i][j]\n",
    "        half_sum+=c\n",
    "        \n",
    "        total_cost += (1/M)*((Y[i][0]-half_sum)**2)\n",
    "    return total_cost"
   ]
  },
  {
   "cell_type": "code",
   "execution_count": 31,
   "id": "af2097bf",
   "metadata": {},
   "outputs": [],
   "source": [
    "def gd(X, Y, learning_rate, num_iterations):\n",
    "    m_array = [0.0 for i in range(13)]\n",
    "    m = np.array(m_array)\n",
    "    c = 0\n",
    "    \n",
    "    for i in range(num_iterations):\n",
    "        m,c = step_gradient(X,Y,learning_rate, m,c)\n",
    "        print(i, \"Cost = \", cost(X,Y,m,c))\n",
    "        \n",
    "    return m,c"
   ]
  },
  {
   "cell_type": "code",
   "execution_count": 32,
   "id": "a5dc1fe9",
   "metadata": {},
   "outputs": [],
   "source": [
    "def run(X_train, Y_train, learning_rate, num_iterations):\n",
    "    m,c = gd(X_train,Y_train, learning_rate, num_iterations)\n",
    "    print(m,c)\n",
    "    return m,c"
   ]
  },
  {
   "cell_type": "code",
   "execution_count": 33,
   "id": "568be958",
   "metadata": {},
   "outputs": [],
   "source": [
    "def score(Y_pred, Y_ori):\n",
    "    Y_new = (Y_ori - Y_pred)**2\n",
    "    u = Y_new.sum()\n",
    "\n",
    "    M = len(Y_ori)\n",
    "    sum1 = Y_ori.sum()\n",
    "    \n",
    "    mean1 = sum1/M\n",
    "    \n",
    "    Y_new2 = (Y_ori - mean1)**2\n",
    "    v = Y_new2.sum()\n",
    "    \n",
    "    return (1 - (u/v))\n",
    "    "
   ]
  },
  {
   "cell_type": "code",
   "execution_count": 34,
   "id": "5943a094",
   "metadata": {},
   "outputs": [],
   "source": [
    "def predict(X_test, m , c):\n",
    "    predictions = []\n",
    "\n",
    "    for i in range(len(X_test)):\n",
    "        pred = 0\n",
    "        for j in range(len(m)):\n",
    "            pred += m[j]*X_test[i][j]\n",
    "        pred+=c\n",
    "    \n",
    "        predictions.append([pred])\n",
    "    \n",
    "    Y_pred = np.array(predictions)\n",
    "    \n",
    "    return Y_pred\n"
   ]
  },
  {
   "cell_type": "markdown",
   "id": "d21243da",
   "metadata": {},
   "source": [
    "# Original Code"
   ]
  },
  {
   "cell_type": "code",
   "execution_count": 35,
   "id": "6dea19ef",
   "metadata": {},
   "outputs": [],
   "source": [
    "import numpy as np"
   ]
  },
  {
   "cell_type": "code",
   "execution_count": 36,
   "id": "225f39e8",
   "metadata": {},
   "outputs": [
    {
     "data": {
      "text/plain": [
       "(379, 14)"
      ]
     },
     "execution_count": 36,
     "metadata": {},
     "output_type": "execute_result"
    }
   ],
   "source": [
    "#Load Data from CSV\n",
    "data = np.loadtxt(\"train.csv\", delimiter = \",\")\n",
    "data.shape"
   ]
  },
  {
   "cell_type": "code",
   "execution_count": 37,
   "id": "7e7bc3d3",
   "metadata": {},
   "outputs": [
    {
     "data": {
      "text/plain": [
       "(379, 13)"
      ]
     },
     "execution_count": 37,
     "metadata": {},
     "output_type": "execute_result"
    }
   ],
   "source": [
    "#Split data into X and Y\n",
    "X = data[:, :13]\n",
    "X.shape"
   ]
  },
  {
   "cell_type": "code",
   "execution_count": 38,
   "id": "2c3d1be8",
   "metadata": {},
   "outputs": [
    {
     "data": {
      "text/plain": [
       "(379, 1)"
      ]
     },
     "execution_count": 38,
     "metadata": {},
     "output_type": "execute_result"
    }
   ],
   "source": [
    "Y = data[:, 13:14]\n",
    "Y.shape"
   ]
  },
  {
   "cell_type": "code",
   "execution_count": 39,
   "id": "cab20c16",
   "metadata": {},
   "outputs": [],
   "source": [
    "#Split data into testing data and training data\n",
    "from sklearn import model_selection\n",
    "X_train, X_test, Y_train, Y_test = model_selection.train_test_split(X,Y)"
   ]
  },
  {
   "cell_type": "code",
   "execution_count": 40,
   "id": "4368009e",
   "metadata": {},
   "outputs": [
    {
     "name": "stdout",
     "output_type": "stream",
     "text": [
      "0 Cost =  164.75800748618087\n",
      "1 Cost =  73.09749848713952\n",
      "2 Cost =  49.27946648207256\n",
      "3 Cost =  43.715924303959994\n",
      "4 Cost =  38.931990771987564\n",
      "5 Cost =  38.73412150509757\n",
      "6 Cost =  35.478496101261065\n",
      "7 Cost =  35.811608108643156\n",
      "8 Cost =  33.022789150336415\n",
      "9 Cost =  33.474950100376816\n",
      "10 Cost =  31.03875016470678\n",
      "11 Cost =  31.540960352234823\n",
      "12 Cost =  29.40274030566993\n",
      "13 Cost =  29.929378298853177\n",
      "14 Cost =  28.045146016040697\n",
      "15 Cost =  28.581656008497944\n",
      "16 Cost =  26.915231603162162\n",
      "17 Cost =  27.451748163317056\n",
      "18 Cost =  25.973356503641163\n",
      "19 Cost =  26.502692183483422\n",
      "20 Cost =  25.187615871466146\n",
      "21 Cost =  25.704419713683414\n",
      "22 Cost =  24.531918422594728\n",
      "23 Cost =  25.032230474160645\n",
      "24 Cost =  23.984728824321238\n",
      "25 Cost =  24.465691311244747\n",
      "26 Cost =  23.528172841633474\n",
      "27 Cost =  23.987815674323883\n",
      "28 Cost =  23.147364026212554\n",
      "29 Cost =  23.58443362269191\n",
      "30 Cost =  22.829877952183907\n",
      "31 Cost =  23.243696192287704\n",
      "32 Cost =  22.5653314738222\n",
      "33 Cost =  22.95567814630874\n",
      "34 Cost =  22.34504053888785\n",
      "35 Cost =  22.712055213148513\n",
      "36 Cost =  22.161738914148568\n",
      "37 Cost =  22.505839277151416\n",
      "38 Cost =  22.009345359823566\n",
      "39 Cost =  22.331159615821353\n",
      "40 Cost =  21.8827700247809\n",
      "41 Cost =  22.183081299561085\n",
      "42 Cost =  21.77775297521311\n",
      "43 Cost =  22.057453926448392\n",
      "44 Cost =  21.69072926347185\n",
      "45 Cost =  21.950785321175434\n",
      "46 Cost =  21.618716035535343\n",
      "47 Cost =  21.86013589754284\n",
      "48 Cost =  21.559218004311873\n",
      "49 Cost =  21.783030195307408\n",
      "50 Cost =  21.51014826385524\n",
      "51 Cost =  21.717382733194594\n",
      "52 Cost =  21.469761937254088\n",
      "53 Cost =  21.661435820469396\n",
      "54 Cost =  21.436600571163993\n",
      "55 Cost =  21.613707372623086\n",
      "56 Cost =  21.40944553479526\n",
      "57 Cost =  21.572947105120704\n",
      "58 Cost =  21.38727896631546\n",
      "59 Cost =  21.53809974886764\n",
      "60 Cost =  21.36925104662126\n",
      "61 Cost =  21.50827415393285\n",
      "62 Cost =  21.354652578092157\n",
      "63 Cost =  21.48271733305874\n",
      "64 Cost =  21.342892011170044\n",
      "65 Cost =  21.46079265053297\n",
      "66 Cost =  21.333476199942247\n",
      "67 Cost =  21.44196149057103\n",
      "68 Cost =  21.32599428383651\n",
      "69 Cost =  21.425767846852874\n",
      "70 Cost =  21.320104189748577\n",
      "71 Cost =  21.41182536483783\n",
      "72 Cost =  21.315521330471963\n",
      "73 Cost =  21.399806443866147\n",
      "74 Cost =  21.31200914372024\n",
      "75 Cost =  21.389433069250437\n",
      "76 Cost =  21.309371173442617\n",
      "77 Cost =  21.380469097558198\n",
      "78 Cost =  21.30744444330543\n",
      "79 Cost =  21.372713762744855\n",
      "80 Cost =  21.306093912629958\n",
      "81 Cost =  21.36599620810047\n",
      "82 Cost =  21.305207838984686\n",
      "83 Cost =  21.360170880275533\n",
      "84 Cost =  21.304693900075442\n",
      "85 Cost =  21.35511364792033\n",
      "86 Cost =  21.304475951432764\n",
      "87 Cost =  21.350718529518346\n",
      "88 Cost =  21.304491316404835\n",
      "89 Cost =  21.346894933497058\n",
      "90 Cost =  21.30468852174096\n",
      "91 Cost =  21.343565329228436\n",
      "92 Cost =  21.305025406116762\n",
      "93 Cost =  21.340663280563017\n",
      "94 Cost =  21.305467540743802\n",
      "95 Cost =  21.338131784482936\n",
      "96 Cost =  21.305986911090393\n",
      "97 Cost =  21.335921866637406\n",
      "98 Cost =  21.306560817024913\n",
      "99 Cost =  21.333991393232896\n",
      "100 Cost =  21.307170955632873\n",
      "101 Cost =  21.332304065217198\n",
      "102 Cost =  21.307802656777774\n",
      "103 Cost =  21.330828566127963\n",
      "104 Cost =  21.30844424634776\n",
      "105 Cost =  21.329537839534023\n",
      "106 Cost =  21.309086516213306\n",
      "107 Cost =  21.32840847582591\n",
      "108 Cost =  21.30972228334074\n",
      "109 Cost =  21.327420191325366\n",
      "110 Cost =  21.310346023371235\n",
      "111 Cost =  21.32655538538344\n",
      "112 Cost =  21.310953566372852\n",
      "113 Cost =  21.325798763403046\n",
      "114 Cost =  21.31154184448357\n",
      "115 Cost =  21.325137015627103\n",
      "116 Cost =  21.31210868284339\n",
      "117 Cost =  21.324558543132873\n",
      "118 Cost =  21.312652626624377\n",
      "119 Cost =  21.324053223819266\n",
      "120 Cost =  21.31317279814334\n",
      "121 Cost =  21.323612212303264\n",
      "122 Cost =  21.31366877903258\n",
      "123 Cost =  21.3232277685931\n",
      "124 Cost =  21.314140513266025\n",
      "125 Cost =  21.32289311120549\n",
      "126 Cost =  21.31458822753308\n",
      "127 Cost =  21.322602291066925\n",
      "128 Cost =  21.315012366028256\n",
      "129 Cost =  21.32235008310534\n",
      "130 Cost =  21.315413537209743\n",
      "131 Cost =  21.322131892915543\n",
      "132 Cost =  21.31579247048498\n",
      "133 Cost =  21.32194367628375\n",
      "134 Cost =  21.31614998111942\n",
      "135 Cost =  21.321781869694405\n",
      "136 Cost =  21.31648694194777\n",
      "137 Cost =  21.321643330228905\n",
      "138 Cost =  21.316804260704433\n",
      "139 Cost =  21.32152528350593\n",
      "140 Cost =  21.317102861986694\n",
      "141 Cost =  21.321425278516802\n",
      "142 Cost =  21.317383673030015\n",
      "143 Cost =  21.32134114838112\n",
      "144 Cost =  21.317647612613424\n",
      "145 Cost =  21.321270976192306\n",
      "146 Cost =  21.317895582527346\n",
      "147 Cost =  21.32121306524668\n",
      "148 Cost =  21.318128461133238\n",
      "149 Cost =  21.321165913052432\n",
      "150 Cost =  21.31834709862453\n",
      "151 Cost =  21.321128188603296\n",
      "152 Cost =  21.318552313665442\n",
      "153 Cost =  21.32109871247688\n",
      "154 Cost =  21.318744891140025\n",
      "155 Cost =  21.32107643937982\n",
      "156 Cost =  21.318925580790822\n",
      "157 Cost =  21.32106044281691\n",
      "158 Cost =  21.31909509656442\n",
      "159 Cost =  21.321049901605853\n",
      "160 Cost =  21.319254116514838\n",
      "161 Cost =  21.321044087999514\n",
      "162 Cost =  21.319403283140833\n",
      "163 Cost =  21.321042357209283\n",
      "164 Cost =  21.319543204057286\n",
      "165 Cost =  21.321044138153052\n",
      "166 Cost =  21.31967445291786\n",
      "167 Cost =  21.321048925273686\n",
      "168 Cost =  21.319797570522635\n",
      "169 Cost =  21.321056271296026\n",
      "170 Cost =  21.319913066056223\n",
      "171 Cost =  21.321065780807633\n",
      "172 Cost =  21.320021418413127\n",
      "173 Cost =  21.321077104562935\n",
      "174 Cost =  21.320123077575296\n",
      "175 Cost =  21.32108993442452\n",
      "176 Cost =  21.32021846601419\n",
      "177 Cost =  21.321103998866615\n",
      "178 Cost =  21.320307980095745\n",
      "179 Cost =  21.321119058973498\n",
      "180 Cost =  21.32039199147097\n",
      "181 Cost =  21.321134904876796\n",
      "182 Cost =  21.320470848439196\n",
      "183 Cost =  21.321151352580507\n",
      "184 Cost =  21.320544877274617\n",
      "185 Cost =  21.32116824112966\n",
      "186 Cost =  21.320614383508104\n",
      "187 Cost =  21.32118543008421\n",
      "188 Cost =  21.32067965316024\n",
      "189 Cost =  21.321202797263695\n",
      "190 Cost =  21.320740953921444\n",
      "191 Cost =  21.321220236733083\n",
      "192 Cost =  21.32079853627754\n",
      "193 Cost =  21.321237657003007\n",
      "194 Cost =  21.320852634579946\n",
      "195 Cost =  21.32125497942103\n",
      "196 Cost =  21.3209034680601\n",
      "197 Cost =  21.32127213673356\n",
      "198 Cost =  21.320951241789356\n",
      "199 Cost =  21.32128907179982\n",
      "200 Cost =  21.320996147584736\n",
      "201 Cost =  21.321305736441687\n",
      "202 Cost =  21.32103836486253\n",
      "203 Cost =  21.32132209041516\n",
      "204 Cost =  21.321078061441753\n",
      "205 Cost =  21.321338100490383\n",
      "206 Cost =  21.321115394298438\n",
      "207 Cost =  21.321353739628922\n",
      "208 Cost =  21.32115051027417\n",
      "209 Cost =  21.321368986248256\n",
      "210 Cost =  21.32118354674014\n",
      "211 Cost =  21.321383823564222\n",
      "212 Cost =  21.321214632219245\n",
      "213 Cost =  21.321398239003393\n",
      "214 Cost =  21.321243886968272\n",
      "215 Cost =  21.321412223678163\n",
      "216 Cost =  21.321271423522983\n",
      "217 Cost =  21.321425771918125\n",
      "218 Cost =  21.321297347207118\n",
      "219 Cost =  21.32143888085173\n",
      "220 Cost =  21.321321756608498\n",
      "221 Cost =  21.321451550033416\n",
      "222 Cost =  21.321344744023495\n",
      "223 Cost =  21.32146378111119\n",
      "224 Cost =  21.32136639587222\n",
      "225 Cost =  21.32147557753073\n",
      "226 Cost =  21.321386793086017\n",
      "227 Cost =  21.321486944272017\n",
      "228 Cost =  21.321406011469023\n",
      "229 Cost =  21.321497887615667\n",
      "230 Cost =  21.32142412203578\n",
      "231 Cost =  21.32150841493507\n",
      "232 Cost =  21.32144119132585\n",
      "233 Cost =  21.32151853451262\n",
      "234 Cost =  21.321457281697665\n",
      "235 Cost =  21.321528255376794\n",
      "236 Cost =  21.32147245160231\n",
      "237 Cost =  21.321537587158442\n",
      "238 Cost =  21.321486755839043\n",
      "239 Cost =  21.32154653996383\n",
      "240 Cost =  21.321500245793622\n",
      "241 Cost =  21.321555124263202\n",
      "242 Cost =  21.321512969660418\n",
      "243 Cost =  21.321563350792825\n",
      "244 Cost =  21.321524972649847\n",
      "245 Cost =  21.321571230469207\n",
      "246 Cost =  21.321536297181645\n",
      "247 Cost =  21.321578774314407\n",
      "248 Cost =  21.321546983065094\n",
      "249 Cost =  21.32158599339091\n",
      "250 Cost =  21.321557067667488\n",
      "251 Cost =  21.321592898745422\n",
      "252 Cost =  21.321566586070862\n",
      "253 Cost =  21.32159950136024\n",
      "254 Cost =  21.321575571218624\n",
      "255 Cost =  21.321605812111656\n",
      "256 Cost =  21.321584054052085\n",
      "257 Cost =  21.32161184173462\n",
      "258 Cost =  21.321592063638164\n",
      "259 Cost =  21.321617600792585\n",
      "260 Cost =  21.321599627288297\n",
      "261 Cost =  21.321623099652697\n",
      "262 Cost =  21.321606770669664\n",
      "263 Cost =  21.321628348464802\n",
      "264 Cost =  21.321613517908958\n",
      "265 Cost =  21.321633357144638\n",
      "266 Cost =  21.32161989168943\n",
      "267 Cost =  21.321638135360278\n",
      "268 Cost =  21.32162591334125\n",
      "269 Cost =  21.321642692521507\n",
      "270 Cost =  21.321631602926193\n",
      "271 Cost =  21.321647037771896\n",
      "272 Cost =  21.321636979316736\n",
      "273 Cost =  21.321651179983217\n",
      "274 Cost =  21.321642060269756\n",
      "275 Cost =  21.32165512775161\n",
      "276 Cost =  21.3216468624959\n",
      "277 Cost =  21.321658889395966\n",
      "278 Cost =  21.32165140172375\n"
     ]
    },
    {
     "name": "stdout",
     "output_type": "stream",
     "text": [
      "279 Cost =  21.321662472957282\n",
      "280 Cost =  21.321655692760665\n",
      "281 Cost =  21.321665886199913\n",
      "282 Cost =  21.32165974954883\n",
      "283 Cost =  21.321669136613377\n",
      "284 Cost =  21.3216635852184\n",
      "285 Cost =  21.32167223141561\n",
      "286 Cost =  21.321667212136923\n",
      "287 Cost =  21.321675177556834\n",
      "288 Cost =  21.321670641955528\n",
      "289 Cost =  21.32167798172401\n",
      "290 Cost =  21.321673885652324\n",
      "291 Cost =  21.32168065034614\n",
      "292 Cost =  21.321676953573036\n",
      "293 Cost =  21.321683189599806\n",
      "294 Cost =  21.321679855468975\n",
      "295 Cost =  21.321685605415297\n",
      "296 Cost =  21.321682600532633\n",
      "297 Cost =  21.321687903482804\n",
      "298 Cost =  21.321685197431158\n",
      "299 Cost =  21.321690089259157\n",
      "[-0.89923086  0.84359977  0.02465294  0.4398408  -2.69384137  1.90627693\n",
      "  0.24556297 -3.28743694  3.37121641 -2.50736597 -2.74413667  0.71302427\n",
      " -3.82483096] 22.60709914772841\n"
     ]
    }
   ],
   "source": [
    "m,c = run(X_train, Y_train, 0.002, 300)"
   ]
  },
  {
   "cell_type": "code",
   "execution_count": 41,
   "id": "9f0da2f1",
   "metadata": {},
   "outputs": [],
   "source": [
    "Y_pred = predict(X_test, m, c)"
   ]
  },
  {
   "cell_type": "code",
   "execution_count": 42,
   "id": "7410c690",
   "metadata": {},
   "outputs": [
    {
     "data": {
      "image/png": "[encoded data removed]",
      "text/plain": [
       "<Figure size 640x480 with 1 Axes>"
      ]
     },
     "metadata": {},
     "output_type": "display_data"
    }
   ],
   "source": [
    "import matplotlib.pyplot as plt\n",
    "\n",
    "one = np.arange(0,50, 1)\n",
    "plt.plot(one,one)\n",
    "plt.scatter(Y_test, Y_pred)\n",
    "plt.show()"
   ]
  },
  {
   "cell_type": "code",
   "execution_count": 43,
   "id": "d335b7ce",
   "metadata": {},
   "outputs": [
    {
     "data": {
      "text/plain": [
       "0.6619400485697473"
      ]
     },
     "execution_count": 43,
     "metadata": {},
     "output_type": "execute_result"
    }
   ],
   "source": [
    "score(Y_pred, Y_test)"
   ]
  },
  {
   "cell_type": "code",
   "execution_count": 44,
   "id": "fe1715e8",
   "metadata": {},
   "outputs": [],
   "source": [
    "Y_pred2 = predict(X_train, m, c)"
   ]
  },
  {
   "cell_type": "code",
   "execution_count": 45,
   "id": "c4c533a2",
   "metadata": {},
   "outputs": [
    {
     "data": {
      "image/png": "[encoded data removed]",
      "text/plain": [
       "<Figure size 640x480 with 1 Axes>"
      ]
     },
     "metadata": {},
     "output_type": "display_data"
    }
   ],
   "source": [
    "import matplotlib.pyplot as plt\n",
    "\n",
    "one = np.arange(0,50, 1)\n",
    "plt.plot(one,one)\n",
    "plt.scatter(Y_train, Y_pred2)\n",
    "plt.show()"
   ]
  },
  {
   "cell_type": "code",
   "execution_count": 46,
   "id": "5dd450e9",
   "metadata": {},
   "outputs": [
    {
     "data": {
      "text/plain": [
       "0.7488647219509679"
      ]
     },
     "execution_count": 46,
     "metadata": {},
     "output_type": "execute_result"
    }
   ],
   "source": [
    "score(Y_pred2, Y_train)"
   ]
  }
 ],
 "metadata": {
  "kernelspec": {
   "display_name": "Python 3 (ipykernel)",
   "language": "python",
   "name": "python3"
  },
  "language_info": {
   "codemirror_mode": {
    "name": "ipython",
    "version": 3
   },
   "file_extension": ".py",
   "mimetype": "text/x-python",
   "name": "python",
   "nbconvert_exporter": "python",
   "pygments_lexer": "ipython3",
   "version": "3.10.2"
  }
 },
 "nbformat": 4,
 "nbformat_minor": 5
}
